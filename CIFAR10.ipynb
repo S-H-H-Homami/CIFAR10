{
  "nbformat": 4,
  "nbformat_minor": 0,
  "metadata": {
    "colab": {
      "provenance": []
    },
    "kernelspec": {
      "name": "python3",
      "display_name": "Python 3"
    },
    "language_info": {
      "name": "python"
    },
    "accelerator": "GPU",
    "gpuClass": "standard"
  },
  "cells": [
    {
      "cell_type": "code",
      "execution_count": null,
      "metadata": {
        "id": "Dm1nfUGw7eUr"
      },
      "outputs": [],
      "source": [
        "import tensorflow as tf\n",
        "import keras"
      ]
    },
    {
      "cell_type": "code",
      "source": [
        "CFAR10_Classes= {0: \"airplane\", 1: \"car\", 2: \"bird\", 3: \"cat\", 4: \"deer\", 5: \"dog\", 6: \"frog\", 7: \"horse\", 8: \"ship\", 9: \"truck\"}"
      ],
      "metadata": {
        "id": "gA5QPt1q7wLW"
      },
      "execution_count": null,
      "outputs": []
    },
    {
      "cell_type": "code",
      "source": [
        "(X_train, y_train), (X_test, y_test) = tf.keras.datasets.cifar10.load_data()"
      ],
      "metadata": {
        "id": "Ew0IVHP88kGX"
      },
      "execution_count": null,
      "outputs": []
    },
    {
      "cell_type": "code",
      "source": [
        "X_train = X_train.astype(\"float32\")/255\n",
        "X_test = X_test.astype(\"float32\")/255"
      ],
      "metadata": {
        "id": "YrD1LE15A_su"
      },
      "execution_count": null,
      "outputs": []
    },
    {
      "cell_type": "code",
      "source": [
        "X_train[0].shape"
      ],
      "metadata": {
        "colab": {
          "base_uri": "https://localhost:8080/"
        },
        "id": "bwfVMOynF5CH",
        "outputId": "1c65cbce-57b1-4605-8073-51b9ade5c513"
      },
      "execution_count": null,
      "outputs": [
        {
          "output_type": "execute_result",
          "data": {
            "text/plain": [
              "(32, 32, 3)"
            ]
          },
          "metadata": {},
          "execution_count": 39
        }
      ]
    },
    {
      "cell_type": "code",
      "source": [
        "y_train = keras.utils.to_categorical(y_train, 10)\n",
        "y_test = keras.utils.to_categorical(y_test, 10)"
      ],
      "metadata": {
        "id": "5SeaWAQSBf9T"
      },
      "execution_count": null,
      "outputs": []
    },
    {
      "cell_type": "code",
      "source": [
        "from keras.models import Sequential"
      ],
      "metadata": {
        "id": "GOmwL24oFB6K"
      },
      "execution_count": null,
      "outputs": []
    },
    {
      "cell_type": "code",
      "source": [
        "from keras.layers import Dropout\n",
        "from keras.layers.pooling.max_pooling2d import MaxPooling2D\n",
        "from keras.layers.reshaping.flatten import Flatten\n",
        "from keras.layers.convolutional.conv2d_transpose import Conv2D\n",
        "from keras.layers.core.dense import Dense\n",
        "\n",
        "model = Sequential()\n",
        "\n",
        "model.add(Conv2D(32, (3, 3), padding= 'same', input_shape= X_train[0].shape, activation= 'relu'))\n",
        "model.add(Conv2D(32, (3, 3), activation= 'relu'))\n",
        "\n",
        "model.add(MaxPooling2D(pool_size= (2, 2)))\n",
        "\n",
        "model.add(Dropout(0.25))\n",
        "\n",
        "model.add(Conv2D(64, (3, 3), padding= 'same', activation= 'relu'))\n",
        "model.add(Conv2D(64, (3, 3), activation= 'relu'))\n",
        "\n",
        "model.add(MaxPooling2D(pool_size= (2, 2)))\n",
        "\n",
        "model.add(Dropout(0.25))\n",
        "\n",
        "model.add(Flatten())\n",
        "\n",
        "model.add(Dense(512, activation= 'relu'))\n",
        "\n",
        "model.add(Dropout(0.5))\n",
        "\n",
        "model.add(Dense(10, activation= 'softmax'))\n",
        "model.summary()"
      ],
      "metadata": {
        "colab": {
          "base_uri": "https://localhost:8080/"
        },
        "id": "eqZlFS3UFczP",
        "outputId": "60f268aa-8a5f-44bc-c70b-14058e5fe2c7"
      },
      "execution_count": null,
      "outputs": [
        {
          "output_type": "stream",
          "name": "stdout",
          "text": [
            "Model: \"sequential_2\"\n",
            "_________________________________________________________________\n",
            " Layer (type)                Output Shape              Param #   \n",
            "=================================================================\n",
            " conv2d_8 (Conv2D)           (None, 32, 32, 32)        896       \n",
            "                                                                 \n",
            " conv2d_9 (Conv2D)           (None, 30, 30, 32)        9248      \n",
            "                                                                 \n",
            " max_pooling2d_4 (MaxPooling  (None, 15, 15, 32)       0         \n",
            " 2D)                                                             \n",
            "                                                                 \n",
            " dropout_6 (Dropout)         (None, 15, 15, 32)        0         \n",
            "                                                                 \n",
            " conv2d_10 (Conv2D)          (None, 15, 15, 64)        18496     \n",
            "                                                                 \n",
            " conv2d_11 (Conv2D)          (None, 13, 13, 64)        36928     \n",
            "                                                                 \n",
            " max_pooling2d_5 (MaxPooling  (None, 6, 6, 64)         0         \n",
            " 2D)                                                             \n",
            "                                                                 \n",
            " dropout_7 (Dropout)         (None, 6, 6, 64)          0         \n",
            "                                                                 \n",
            " flatten_2 (Flatten)         (None, 2304)              0         \n",
            "                                                                 \n",
            " dense_4 (Dense)             (None, 512)               1180160   \n",
            "                                                                 \n",
            " dropout_8 (Dropout)         (None, 512)               0         \n",
            "                                                                 \n",
            " dense_5 (Dense)             (None, 10)                5130      \n",
            "                                                                 \n",
            "=================================================================\n",
            "Total params: 1,250,858\n",
            "Trainable params: 1,250,858\n",
            "Non-trainable params: 0\n",
            "_________________________________________________________________\n"
          ]
        }
      ]
    },
    {
      "cell_type": "code",
      "source": [
        "model.compile(optimizer= 'adam', loss= 'categorical_crossentropy', metrics= ['accuracy'])"
      ],
      "metadata": {
        "id": "awi2CDW6OLyW"
      },
      "execution_count": null,
      "outputs": []
    },
    {
      "cell_type": "code",
      "source": [
        "model.fit(X_train, y_train, batch_size= 32, epochs= 75, shuffle= True)"
      ],
      "metadata": {
        "colab": {
          "base_uri": "https://localhost:8080/"
        },
        "id": "WHneFcPZPXPh",
        "outputId": "aff85b20-7ad8-49fa-c185-ff242de29c62"
      },
      "execution_count": null,
      "outputs": [
        {
          "output_type": "stream",
          "name": "stdout",
          "text": [
            "Epoch 1/75\n",
            "1563/1563 [==============================] - 11s 6ms/step - loss: 1.5185 - accuracy: 0.4432\n",
            "Epoch 2/75\n",
            "1563/1563 [==============================] - 9s 6ms/step - loss: 1.1304 - accuracy: 0.5982\n",
            "Epoch 3/75\n",
            "1563/1563 [==============================] - 9s 6ms/step - loss: 0.9889 - accuracy: 0.6517\n",
            "Epoch 4/75\n",
            "1563/1563 [==============================] - 9s 6ms/step - loss: 0.8958 - accuracy: 0.6846\n",
            "Epoch 5/75\n",
            "1563/1563 [==============================] - 9s 6ms/step - loss: 0.8363 - accuracy: 0.7086\n",
            "Epoch 6/75\n",
            "1563/1563 [==============================] - 9s 6ms/step - loss: 0.7892 - accuracy: 0.7240\n",
            "Epoch 7/75\n",
            "1563/1563 [==============================] - 9s 6ms/step - loss: 0.7545 - accuracy: 0.7363\n",
            "Epoch 8/75\n",
            "1563/1563 [==============================] - 9s 6ms/step - loss: 0.7146 - accuracy: 0.7484\n",
            "Epoch 9/75\n",
            "1563/1563 [==============================] - 9s 6ms/step - loss: 0.6928 - accuracy: 0.7584\n",
            "Epoch 10/75\n",
            "1563/1563 [==============================] - 9s 6ms/step - loss: 0.6671 - accuracy: 0.7655\n",
            "Epoch 11/75\n",
            "1563/1563 [==============================] - 8s 5ms/step - loss: 0.6493 - accuracy: 0.7731\n",
            "Epoch 12/75\n",
            "1563/1563 [==============================] - 9s 6ms/step - loss: 0.6255 - accuracy: 0.7791\n",
            "Epoch 13/75\n",
            "1563/1563 [==============================] - 9s 6ms/step - loss: 0.6078 - accuracy: 0.7882\n",
            "Epoch 14/75\n",
            "1563/1563 [==============================] - 9s 6ms/step - loss: 0.5939 - accuracy: 0.7910\n",
            "Epoch 15/75\n",
            "1563/1563 [==============================] - 9s 5ms/step - loss: 0.5780 - accuracy: 0.7967\n",
            "Epoch 16/75\n",
            "1563/1563 [==============================] - 9s 6ms/step - loss: 0.5724 - accuracy: 0.7992\n",
            "Epoch 17/75\n",
            "1563/1563 [==============================] - 9s 6ms/step - loss: 0.5582 - accuracy: 0.8043\n",
            "Epoch 18/75\n",
            "1563/1563 [==============================] - 8s 5ms/step - loss: 0.5487 - accuracy: 0.8072\n",
            "Epoch 19/75\n",
            "1563/1563 [==============================] - 9s 6ms/step - loss: 0.5418 - accuracy: 0.8106\n",
            "Epoch 20/75\n",
            "1563/1563 [==============================] - 9s 6ms/step - loss: 0.5279 - accuracy: 0.8142\n",
            "Epoch 21/75\n",
            "1563/1563 [==============================] - 9s 6ms/step - loss: 0.5181 - accuracy: 0.8167\n",
            "Epoch 22/75\n",
            "1563/1563 [==============================] - 9s 5ms/step - loss: 0.5095 - accuracy: 0.8205\n",
            "Epoch 23/75\n",
            "1563/1563 [==============================] - 9s 6ms/step - loss: 0.5051 - accuracy: 0.8220\n",
            "Epoch 24/75\n",
            "1563/1563 [==============================] - 9s 6ms/step - loss: 0.4984 - accuracy: 0.8256\n",
            "Epoch 25/75\n",
            "1563/1563 [==============================] - 9s 6ms/step - loss: 0.4862 - accuracy: 0.8292\n",
            "Epoch 26/75\n",
            "1563/1563 [==============================] - 8s 5ms/step - loss: 0.4799 - accuracy: 0.8314\n",
            "Epoch 27/75\n",
            "1563/1563 [==============================] - 9s 6ms/step - loss: 0.4733 - accuracy: 0.8352\n",
            "Epoch 28/75\n",
            "1563/1563 [==============================] - 9s 6ms/step - loss: 0.4743 - accuracy: 0.8346\n",
            "Epoch 29/75\n",
            "1563/1563 [==============================] - 9s 5ms/step - loss: 0.4728 - accuracy: 0.8343\n",
            "Epoch 30/75\n",
            "1563/1563 [==============================] - 9s 6ms/step - loss: 0.4659 - accuracy: 0.8407\n",
            "Epoch 31/75\n",
            "1563/1563 [==============================] - 9s 6ms/step - loss: 0.4639 - accuracy: 0.8384\n",
            "Epoch 32/75\n",
            "1563/1563 [==============================] - 9s 6ms/step - loss: 0.4503 - accuracy: 0.8414\n",
            "Epoch 33/75\n",
            "1563/1563 [==============================] - 8s 5ms/step - loss: 0.4554 - accuracy: 0.8419\n",
            "Epoch 34/75\n",
            "1563/1563 [==============================] - 9s 6ms/step - loss: 0.4514 - accuracy: 0.8429\n",
            "Epoch 35/75\n",
            "1563/1563 [==============================] - 9s 6ms/step - loss: 0.4469 - accuracy: 0.8432\n",
            "Epoch 36/75\n",
            "1563/1563 [==============================] - 9s 6ms/step - loss: 0.4444 - accuracy: 0.8442\n",
            "Epoch 37/75\n",
            "1563/1563 [==============================] - 8s 5ms/step - loss: 0.4336 - accuracy: 0.8499\n",
            "Epoch 38/75\n",
            "1563/1563 [==============================] - 9s 6ms/step - loss: 0.4289 - accuracy: 0.8507\n",
            "Epoch 39/75\n",
            "1563/1563 [==============================] - 9s 6ms/step - loss: 0.4273 - accuracy: 0.8499\n",
            "Epoch 40/75\n",
            "1563/1563 [==============================] - 9s 6ms/step - loss: 0.4238 - accuracy: 0.8537\n",
            "Epoch 41/75\n",
            "1563/1563 [==============================] - 9s 6ms/step - loss: 0.4236 - accuracy: 0.8536\n",
            "Epoch 42/75\n",
            "1563/1563 [==============================] - 9s 6ms/step - loss: 0.4152 - accuracy: 0.8564\n",
            "Epoch 43/75\n",
            "1563/1563 [==============================] - 9s 6ms/step - loss: 0.4167 - accuracy: 0.8553\n",
            "Epoch 44/75\n",
            "1563/1563 [==============================] - 8s 5ms/step - loss: 0.4083 - accuracy: 0.8586\n",
            "Epoch 45/75\n",
            "1563/1563 [==============================] - 9s 6ms/step - loss: 0.4021 - accuracy: 0.8602\n",
            "Epoch 46/75\n",
            "1563/1563 [==============================] - 9s 6ms/step - loss: 0.4175 - accuracy: 0.8552\n",
            "Epoch 47/75\n",
            "1563/1563 [==============================] - 9s 6ms/step - loss: 0.4008 - accuracy: 0.8607\n",
            "Epoch 48/75\n",
            "1563/1563 [==============================] - 9s 6ms/step - loss: 0.4064 - accuracy: 0.8605\n",
            "Epoch 49/75\n",
            "1563/1563 [==============================] - 9s 6ms/step - loss: 0.4035 - accuracy: 0.8606\n",
            "Epoch 50/75\n",
            "1563/1563 [==============================] - 9s 6ms/step - loss: 0.4080 - accuracy: 0.8587\n",
            "Epoch 51/75\n",
            "1563/1563 [==============================] - 9s 5ms/step - loss: 0.3973 - accuracy: 0.8638\n",
            "Epoch 52/75\n",
            "1563/1563 [==============================] - 9s 6ms/step - loss: 0.3927 - accuracy: 0.8662\n",
            "Epoch 53/75\n",
            "1563/1563 [==============================] - 9s 6ms/step - loss: 0.3930 - accuracy: 0.8663\n",
            "Epoch 54/75\n",
            "1563/1563 [==============================] - 9s 6ms/step - loss: 0.3948 - accuracy: 0.8619\n",
            "Epoch 55/75\n",
            "1563/1563 [==============================] - 9s 5ms/step - loss: 0.3847 - accuracy: 0.8671\n",
            "Epoch 56/75\n",
            "1563/1563 [==============================] - 9s 6ms/step - loss: 0.3874 - accuracy: 0.8666\n",
            "Epoch 57/75\n",
            "1563/1563 [==============================] - 9s 6ms/step - loss: 0.3824 - accuracy: 0.8684\n",
            "Epoch 58/75\n",
            "1563/1563 [==============================] - 9s 6ms/step - loss: 0.3899 - accuracy: 0.8656\n",
            "Epoch 59/75\n",
            "1563/1563 [==============================] - 9s 6ms/step - loss: 0.3805 - accuracy: 0.8708\n",
            "Epoch 60/75\n",
            "1563/1563 [==============================] - 9s 6ms/step - loss: 0.3829 - accuracy: 0.8696\n",
            "Epoch 61/75\n",
            "1563/1563 [==============================] - 9s 6ms/step - loss: 0.3799 - accuracy: 0.8690\n",
            "Epoch 62/75\n",
            "1563/1563 [==============================] - 9s 6ms/step - loss: 0.3797 - accuracy: 0.8694\n",
            "Epoch 63/75\n",
            "1563/1563 [==============================] - 9s 6ms/step - loss: 0.3722 - accuracy: 0.8719\n",
            "Epoch 64/75\n",
            "1563/1563 [==============================] - 9s 6ms/step - loss: 0.3773 - accuracy: 0.8697\n",
            "Epoch 65/75\n",
            "1563/1563 [==============================] - 9s 6ms/step - loss: 0.3701 - accuracy: 0.8735\n",
            "Epoch 66/75\n",
            "1563/1563 [==============================] - 9s 5ms/step - loss: 0.3723 - accuracy: 0.8715\n",
            "Epoch 67/75\n",
            "1563/1563 [==============================] - 9s 6ms/step - loss: 0.3741 - accuracy: 0.8710\n",
            "Epoch 68/75\n",
            "1563/1563 [==============================] - 9s 6ms/step - loss: 0.3712 - accuracy: 0.8720\n",
            "Epoch 69/75\n",
            "1563/1563 [==============================] - 9s 6ms/step - loss: 0.3727 - accuracy: 0.8740\n",
            "Epoch 70/75\n",
            "1563/1563 [==============================] - 8s 5ms/step - loss: 0.3694 - accuracy: 0.8734\n",
            "Epoch 71/75\n",
            "1563/1563 [==============================] - 9s 6ms/step - loss: 0.3722 - accuracy: 0.8744\n",
            "Epoch 72/75\n",
            "1563/1563 [==============================] - 9s 6ms/step - loss: 0.3636 - accuracy: 0.8756\n",
            "Epoch 73/75\n",
            "1563/1563 [==============================] - 9s 6ms/step - loss: 0.3589 - accuracy: 0.8771\n",
            "Epoch 74/75\n",
            "1563/1563 [==============================] - 9s 5ms/step - loss: 0.3569 - accuracy: 0.8780\n",
            "Epoch 75/75\n",
            "1563/1563 [==============================] - 9s 6ms/step - loss: 0.3641 - accuracy: 0.8777\n"
          ]
        },
        {
          "output_type": "execute_result",
          "data": {
            "text/plain": [
              "<keras.callbacks.History at 0x7f3fb6252b20>"
            ]
          },
          "metadata": {},
          "execution_count": 44
        }
      ]
    },
    {
      "cell_type": "code",
      "source": [
        "from keras.saving.legacy.model_config import model_from_json\n",
        "from pathlib import Path\n",
        "model_structure= model.to_json()\n",
        "f= Path('/content/model_structue.json')\n",
        "f.write_text(model_structure)\n",
        "\n",
        "model.save_weights('/content/model_weights.h5')\n",
        "\n",
        "# model_structure= f.read_text()\n",
        "# model= model_from_json(model_structure)\n",
        "# model.load_weights('/content/model_weights.h5')"
      ],
      "metadata": {
        "id": "_pLPiGS0QuMl"
      },
      "execution_count": null,
      "outputs": []
    },
    {
      "cell_type": "code",
      "source": [
        "import cv2\n",
        "from matplotlib import pyplot as plt\n",
        "our_test= cv2.imread('/content/airplane.jpg')\n",
        "plt.imshow(cv2.cvtColor(our_test, cv2.COLOR_BGR2RGB))"
      ],
      "metadata": {
        "colab": {
          "base_uri": "https://localhost:8080/",
          "height": 256
        },
        "id": "FSkBoEp-ZiYr",
        "outputId": "5d081f22-87b1-458c-d143-8bbb2549022c"
      },
      "execution_count": null,
      "outputs": [
        {
          "output_type": "execute_result",
          "data": {
            "text/plain": [
              "<matplotlib.image.AxesImage at 0x7f3ffabf4220>"
            ]
          },
          "metadata": {},
          "execution_count": 57
        },
        {
          "output_type": "display_data",
          "data": {
            "text/plain": [
              "<Figure size 432x288 with 1 Axes>"
            ],
            "image/png": "[encoded data removed]"
          },
          "metadata": {
            "needs_background": "light"
          }
        }
      ]
    },
    {
      "cell_type": "code",
      "source": [
        "from keras.utils import load_img, img_to_array\n",
        "import numpy as np\n",
        "img= load_img('/content/airplane.jpg', target_size= (32, 32))\n",
        "test_img= img_to_array(img)\n",
        "list_test= np.expand_dims(test_img, axis=0)"
      ],
      "metadata": {
        "id": "M6lGR2BWVc6V"
      },
      "execution_count": null,
      "outputs": []
    },
    {
      "cell_type": "code",
      "source": [
        "results= model.predict(list_test)\n",
        "test_result= np.argmax(results[0])\n",
        "answer= CFAR10_Classes[test_result]\n",
        "print(f'This is an image of a/an \" {answer} \" with probability of {results[0][test_result]*100}%')"
      ],
      "metadata": {
        "colab": {
          "base_uri": "https://localhost:8080/"
        },
        "id": "ZuvzDIwqYHtP",
        "outputId": "a875673e-03ce-4d18-dfc2-b5d57a15b32f"
      },
      "execution_count": null,
      "outputs": [
        {
          "output_type": "stream",
          "name": "stdout",
          "text": [
            "1/1 [==============================] - 0s 24ms/step\n",
            "This is an image of a/an \" airplane \" with probability of 100.0%\n"
          ]
        }
      ]
    },
    {
      "cell_type": "code",
      "source": [
        "from sklearn.metrics import confusion_matrix\n",
        "y_pred= model.predict(X_test)\n",
        "y_pred_class= np.argmax(y_pred, axis=1)\n",
        "y_test_class= np.argmax(y_test, axis=1)\n",
        "cnfsn_mtrx= confusion_matrix(y_test_class, y_pred_class)"
      ],
      "metadata": {
        "colab": {
          "base_uri": "https://localhost:8080/"
        },
        "id": "x0bb-oQv0jc5",
        "outputId": "2d1f3e80-0300-447a-f745-69b7e2eb4184"
      },
      "execution_count": null,
      "outputs": [
        {
          "output_type": "stream",
          "name": "stdout",
          "text": [
            "313/313 [==============================] - 1s 2ms/step\n"
          ]
        }
      ]
    },
    {
      "cell_type": "code",
      "source": [
        "print(cnfsn_mtrx)"
      ],
      "metadata": {
        "colab": {
          "base_uri": "https://localhost:8080/"
        },
        "id": "KtNHHna25k7e",
        "outputId": "16938727-d6f1-4529-ca33-25cb3f46067e"
      },
      "execution_count": null,
      "outputs": [
        {
          "output_type": "stream",
          "name": "stdout",
          "text": [
            "[[787  12  47  18  21   9  11   9  48  38]\n",
            " [  7 880   3   2   2   5   6   0  13  82]\n",
            " [ 47   4 660  39  92  74  58  14  10   2]\n",
            " [ 19   6  52 551  69 192  66  18  11  16]\n",
            " [ 14   1  39  37 783  30  39  46   6   5]\n",
            " [  3   1  33 107  34 759  23  30   1   9]\n",
            " [  4   2  27  24  33  20 881   5   3   1]\n",
            " [  8   3  25  13  31  62   8 838   3   9]\n",
            " [ 55  17  11  11   7   6   3   2 856  32]\n",
            " [ 19  31   4  13   1   1   3   7  12 909]]\n"
          ]
        }
      ]
    }
  ]
}